{
 "cells": [
  {
   "cell_type": "code",
   "execution_count": 0,
   "metadata": {
    "application/vnd.databricks.v1+cell": {
     "cellMetadata": {
      "byteLimit": 2048000,
      "rowLimit": 10000
     },
     "inputWidgets": {},
     "nuid": "e7965af4-c3f9-404f-9bd2-0149e9bbf19c",
     "showTitle": false,
     "tableResultSettingsMap": {},
     "title": ""
    }
   },
   "outputs": [],
   "source": [
    "import shap\n",
    "import pandas as pd\n",
    "import numpy as np\n",
    "import seaborn as sns\n",
    "import matplotlib.pyplot as plt\n",
    "from pyspark.sql import SparkSession\n",
    "from sklearn.model_selection import train_test_split\n",
    "from sklearn.preprocessing import StandardScaler\n",
    "from sklearn.linear_model import LogisticRegression\n",
    "from sklearn.ensemble import RandomForestClassifier\n",
    "from sklearn.metrics import roc_auc_score, make_scorer\n",
    "from sklearn.model_selection import StratifiedKFold\n",
    "from sklearn.feature_selection import RFECV\n",
    "from sklearn.metrics import classification_report, confusion_matrix, roc_auc_score\n",
    "from pyspark.sql import functions as F\n",
    "from pyspark.sql.window import Window"
   ]
  },
  {
   "cell_type": "code",
   "execution_count": 0,
   "metadata": {
    "application/vnd.databricks.v1+cell": {
     "cellMetadata": {
      "byteLimit": 2048000,
      "rowLimit": 10000
     },
     "inputWidgets": {},
     "nuid": "9f069fd7-86cc-4cf2-8017-29c1a34d1c93",
     "showTitle": false,
     "tableResultSettingsMap": {},
     "title": ""
    }
   },
   "outputs": [],
   "source": [
    "# Create a Spark session\n",
    "spark = SparkSession.builder.appName(\"ChurnBinaryPrediction\").getOrCreate()"
   ]
  },
  {
   "cell_type": "code",
   "execution_count": 0,
   "metadata": {
    "application/vnd.databricks.v1+cell": {
     "cellMetadata": {
      "byteLimit": 2048000,
      "rowLimit": 10000
     },
     "inputWidgets": {},
     "nuid": "3256ef7a-1dc2-48a6-9702-29b8b4b669ae",
     "showTitle": false,
     "tableResultSettingsMap": {},
     "title": ""
    }
   },
   "outputs": [],
   "source": [
    "df_spark_aggregated = spark.sql(\n",
    "    \"\"\"\n",
    "WITH ranked_data AS (\n",
    "    SELECT\n",
    "        *,\n",
    "        ROW_NUMBER() OVER (PARTITION BY subscriptionitem__contact_rk, crm.produktnummer \n",
    "                           ORDER BY h.dbt_valid_from DESC) AS rn\n",
    "    FROM\n",
    "        prod.mart.abonnementsprodukter__historikk as h\n",
    "    LEFT JOIN \n",
    "        prod.mart.crm_produkter AS crm \n",
    "    ON \n",
    "        h.subscriptionitem__dynamics_product_rk = crm.dynamics_product_rk\n",
    "    LEFT JOIN\n",
    "        prod.stage.stg_dynamics__contacts AS c\n",
    "    ON \n",
    "        h.subscriptionitem__contact_rk = c.contact_rk\n",
    "    LEFT JOIN prod.mart.geografi as g\n",
    "    ON \n",
    "        c.contact__postalcode_rk = g.postalcode_rk\n",
    "    WHERE\n",
    "        (crm.produktnummer = 2010 OR crm.produktnummer = 2050) and NOT (h.innmeldingsdato is null and h.sluttdato is null and h.gyldig_til_dato is null)\n",
    "),\n",
    "aggregated_data AS (\n",
    "    SELECT\n",
    "        productusage__contact_rk,\n",
    "        COUNT(*) AS produktuttak_count,\n",
    "        CAST(SUM(`beløp`) AS INT) AS `total_beløp`\n",
    "    FROM\n",
    "        prod.mart.produktuttak\n",
    "    WHERE\n",
    "        status = \"Utført\"\n",
    "    GROUP BY\n",
    "        productusage__contact_rk\n",
    "),\n",
    "vehicle_data AS (\n",
    "    SELECT\n",
    "        ownerverification__contact_rk,\n",
    "        COUNT(DISTINCT ownerverification_rk) AS n_vehic\n",
    "    FROM\n",
    "        prod.mart.eierverifiseringer__historikk\n",
    "    WHERE\n",
    "        status_kode_id IN (1, 2, 15)\n",
    "    GROUP BY\n",
    "        ownerverification__contact_rk\n",
    ")\n",
    "SELECT \n",
    "    r.contact_rk, \n",
    "    publikasjonsformat, \n",
    "    `avtale_antall_år`, \n",
    "    er_husstandsmedlem, \n",
    "    startdato, \n",
    "    sluttdato, \n",
    "    produktnummer, \n",
    "    age, \n",
    "    gender, \n",
    "    sentralitetsindex, \n",
    "    a.`total_beløp`,\n",
    "    a.produktuttak_count,\n",
    "    v.n_vehic\n",
    "FROM \n",
    "    ranked_data r\n",
    "LEFT JOIN\n",
    "    aggregated_data a\n",
    "ON\n",
    "    r.contact_rk = a.productusage__contact_rk\n",
    "LEFT JOIN\n",
    "    vehicle_data v\n",
    "ON \n",
    "    r.contact_rk = v.ownerverification__contact_rk\n",
    "WHERE \n",
    "    rn = 1 \n",
    "    \"\"\"\n",
    ")\n"
   ]
  },
  {
   "cell_type": "code",
   "execution_count": 0,
   "metadata": {
    "application/vnd.databricks.v1+cell": {
     "cellMetadata": {
      "byteLimit": 2048000,
      "rowLimit": 10000
     },
     "inputWidgets": {},
     "nuid": "b1447e6c-1b7f-4c18-a374-1c410a6d2c19",
     "showTitle": false,
     "tableResultSettingsMap": {},
     "title": ""
    }
   },
   "outputs": [],
   "source": [
    "# Convert to Pandas dataframe\n",
    "df = df_spark_aggregated.toPandas()"
   ]
  },
  {
   "cell_type": "code",
   "execution_count": 0,
   "metadata": {
    "application/vnd.databricks.v1+cell": {
     "cellMetadata": {
      "byteLimit": 2048000,
      "rowLimit": 10000
     },
     "inputWidgets": {},
     "nuid": "d88e6170-3030-4805-9968-b9268747f130",
     "showTitle": false,
     "tableResultSettingsMap": {},
     "title": ""
    }
   },
   "outputs": [
    {
     "data": {
      "text/plain": [
       "868655"
      ]
     },
     "execution_count": 5,
     "metadata": {},
     "output_type": "execute_result"
    }
   ],
   "source": [
    "len(df)"
   ]
  },
  {
   "cell_type": "code",
   "execution_count": 0,
   "metadata": {
    "application/vnd.databricks.v1+cell": {
     "cellMetadata": {
      "byteLimit": 2048000,
      "rowLimit": 10000
     },
     "inputWidgets": {},
     "nuid": "e318f322-f1d5-4d4a-8e67-e98342fce2fb",
     "showTitle": false,
     "tableResultSettingsMap": {},
     "title": ""
    }
   },
   "outputs": [],
   "source": [
    "df.head(20)"
   ]
  },
  {
   "cell_type": "markdown",
   "metadata": {
    "application/vnd.databricks.v1+cell": {
     "cellMetadata": {
      "byteLimit": 2048000,
      "rowLimit": 10000
     },
     "inputWidgets": {},
     "nuid": "6d7f042d-d863-4257-b8a3-c6f020bc9ced",
     "showTitle": false,
     "tableResultSettingsMap": {},
     "title": ""
    }
   },
   "source": [
    "List `contact_rk` duplicates (if any)"
   ]
  },
  {
   "cell_type": "code",
   "execution_count": 0,
   "metadata": {
    "application/vnd.databricks.v1+cell": {
     "cellMetadata": {
      "byteLimit": 2048000,
      "rowLimit": 10000
     },
     "inputWidgets": {},
     "nuid": "4f29fa55-be4b-4864-b791-2760e1f1ff1d",
     "showTitle": false,
     "tableResultSettingsMap": {},
     "title": ""
    }
   },
   "outputs": [],
   "source": [
    "duplicates = df[df[\"contact_rk\"].duplicated(keep=False)]\n",
    "no_duplicates = df[~df[\"contact_rk\"].duplicated(keep=False)]\n",
    "\n",
    "print(duplicates)"
   ]
  },
  {
   "cell_type": "code",
   "execution_count": 0,
   "metadata": {
    "application/vnd.databricks.v1+cell": {
     "cellMetadata": {
      "byteLimit": 2048000,
      "rowLimit": 10000
     },
     "inputWidgets": {},
     "nuid": "0db5942e-ef67-411e-92b7-c54000a5c7e5",
     "showTitle": false,
     "tableResultSettingsMap": {},
     "title": ""
    }
   },
   "outputs": [],
   "source": [
    "from datetime import datetime\n",
    "\n",
    "def combine_rows_with_sum(group):\n",
    "    # Extract rows for produktnummer 2010 and 2050\n",
    "    row_2010 = group[group[\"produktnummer\"] == \"2010\"].iloc[0].to_dict() if not group[group[\"produktnummer\"] == \"2010\"].empty else {}\n",
    "    row_2050 = group[group[\"produktnummer\"] == \"2050\"].iloc[0].to_dict() if not group[group[\"produktnummer\"] == \"2050\"].empty else {}\n",
    "\n",
    "    # Use row_2010 as the base\n",
    "    if row_2010 and row_2050:\n",
    "        # Update startdato with the value from row_2050\n",
    "        row_2010[\"startdato\"] = row_2050.get(\"startdato\", row_2010.get(\"startdato\"))\n",
    "        # Sum up avtale_antall_år values\n",
    "        row_2010[\"avtale_antall_år\"] = (\n",
    "            float(row_2010.get(\"avtale_antall_år\", 0)) + float(row_2050.get(\"avtale_antall_år\", 0))\n",
    "        )\n",
    "    else:\n",
    "        # If only row_2010 exists, retain its avtale_antall_år\n",
    "        row_2010[\"avtale_antall_år\"] = row_2010.get(\"avtale_antall_år\", 0)\n",
    "    \n",
    "    return row_2010\n",
    "\n",
    "# Apply the function and create a new DataFrame\n",
    "combined_rows_with_columns = duplicates.groupby(\"contact_rk\").apply(combine_rows_with_sum).tolist()\n",
    "\n",
    "df = pd.concat([pd.DataFrame(combined_rows_with_columns), no_duplicates])\n",
    "df[\"startdato\"] = pd.to_datetime(df[\"startdato\"], errors=\"coerce\")\n",
    "df[\"sluttdato\"] = pd.to_datetime(df[\"sluttdato\"], errors=\"coerce\")\n",
    "df = df[(df['sluttdato'].isna()) | (df['sluttdato'].dt.year <= datetime.now().year)]\n",
    "df = df.drop(columns=[\"contact_rk\"])"
   ]
  },
  {
   "cell_type": "code",
   "execution_count": 0,
   "metadata": {
    "application/vnd.databricks.v1+cell": {
     "cellMetadata": {
      "byteLimit": 2048000,
      "rowLimit": 10000
     },
     "inputWidgets": {},
     "nuid": "3c581a2d-3b05-4dbd-8859-6628f8a51dc6",
     "showTitle": false,
     "tableResultSettingsMap": {},
     "title": ""
    }
   },
   "outputs": [],
   "source": [
    "df.head(20)"
   ]
  },
  {
   "cell_type": "markdown",
   "metadata": {
    "application/vnd.databricks.v1+cell": {
     "cellMetadata": {
      "byteLimit": 2048000,
      "rowLimit": 10000
     },
     "inputWidgets": {},
     "nuid": "1989aaf8-4d83-4487-bf5d-a14309b11af1",
     "showTitle": false,
     "tableResultSettingsMap": {},
     "title": ""
    }
   },
   "source": [
    "Convert `sluttdato`=`null` to members with active membership, and `sluttdato`=`Date` to churner"
   ]
  },
  {
   "cell_type": "code",
   "execution_count": 0,
   "metadata": {
    "application/vnd.databricks.v1+cell": {
     "cellMetadata": {
      "byteLimit": 2048000,
      "rowLimit": 10000
     },
     "inputWidgets": {},
     "nuid": "e34d1498-6134-47cd-8124-5b7507463f04",
     "showTitle": false,
     "tableResultSettingsMap": {},
     "title": ""
    }
   },
   "outputs": [],
   "source": [
    "df[\"churn\"] = df[\"sluttdato\"].notna()\n",
    "df = df.drop(columns=[\"sluttdato\", \"startdato\"])\n",
    "\n",
    "# For total_beløp and item_count, replace null values with zero if a null indicates no transactions occurred.\n",
    "df['total_beløp'] = df['total_beløp'].fillna(0)\n",
    "df['produktuttak_count'] = df['produktuttak_count'].fillna(0)\n",
    "df['n_vehic'] = df['n_vehic'].fillna(0)"
   ]
  },
  {
   "cell_type": "code",
   "execution_count": 0,
   "metadata": {
    "application/vnd.databricks.v1+cell": {
     "cellMetadata": {
      "byteLimit": 2048000,
      "rowLimit": 10000
     },
     "inputWidgets": {},
     "nuid": "5128c05b-ac84-4898-8bc6-68eb8cd9e009",
     "showTitle": false,
     "tableResultSettingsMap": {},
     "title": ""
    }
   },
   "outputs": [
    {
     "data": {
      "text/plain": [
       "860564"
      ]
     },
     "execution_count": 11,
     "metadata": {},
     "output_type": "execute_result"
    }
   ],
   "source": [
    "len(df)"
   ]
  },
  {
   "cell_type": "code",
   "execution_count": 0,
   "metadata": {
    "application/vnd.databricks.v1+cell": {
     "cellMetadata": {
      "byteLimit": 2048000,
      "rowLimit": 10000
     },
     "inputWidgets": {},
     "nuid": "c2db0acd-eba5-4781-a489-0f917e03adca",
     "showTitle": false,
     "tableResultSettingsMap": {},
     "title": ""
    }
   },
   "outputs": [
    {
     "data": {
      "image/png": "[encoded data removed]",
      "text/plain": [
       "<Figure size 640x480 with 1 Axes>"
      ]
     },
     "metadata": {},
     "output_type": "display_data"
    },
    {
     "name": "stdout",
     "output_type": "stream",
     "text": [
      "Overall proportion of nulls in publikasjonsformat: 36.98%\n"
     ]
    }
   ],
   "source": [
    "import pandas as pd\n",
    "import matplotlib.pyplot as plt\n",
    "\n",
    "# Assuming 'df' is your DataFrame with 'churn' and 'publikasjonsformat' columns\n",
    "# 'churn' is 1 for churned users and 0 for active users\n",
    "\n",
    "newdf = df.copy()\n",
    "# 1. Create a summary of null and non-null values in publikasjonsformat\n",
    "newdf['is_null_publikasjonsformat'] = newdf['publikasjonsformat'].isnull()\n",
    "\n",
    "# Group by churn and check the proportion of nulls\n",
    "churn_null_summary = newdf.groupby('churn')['is_null_publikasjonsformat'].mean()\n",
    "\n",
    "# 2. Plot the proportion of nulls for churned and non-churned users\n",
    "churn_null_summary.plot(kind='bar', color=['orange', 'blue'])\n",
    "plt.title('Proportion of Nulls in \"publikasjonsformat\" by Churn Status')\n",
    "plt.xlabel('Churn (0 = Not Churned, 1 = Churned)')\n",
    "plt.ylabel('Proportion of Null Values')\n",
    "plt.xticks(rotation=0)\n",
    "plt.show()\n",
    "\n",
    "# 3. Distribution of publikasjonsformat nulls across all data\n",
    "overall_null_summary = newdf['is_null_publikasjonsformat'].mean()\n",
    "print(f\"Overall proportion of nulls in publikasjonsformat: {overall_null_summary:.2%}\")\n",
    "\n",
    "# 4. Provide insights and recommendations\n",
    "# Drop it because it skews the data\n",
    "del newdf\n",
    "df = df.drop(columns=[\"publikasjonsformat\"])\n"
   ]
  },
  {
   "cell_type": "code",
   "execution_count": 0,
   "metadata": {
    "application/vnd.databricks.v1+cell": {
     "cellMetadata": {
      "byteLimit": 2048000,
      "rowLimit": 10000
     },
     "inputWidgets": {},
     "nuid": "24eed1ca-b2d1-428f-a3f6-718ae8c1837b",
     "showTitle": false,
     "tableResultSettingsMap": {},
     "title": ""
    }
   },
   "outputs": [],
   "source": [
    "df.isnull().sum()"
   ]
  },
  {
   "cell_type": "code",
   "execution_count": 0,
   "metadata": {
    "application/vnd.databricks.v1+cell": {
     "cellMetadata": {
      "byteLimit": 2048000,
      "rowLimit": 10000
     },
     "inputWidgets": {},
     "nuid": "905e5db2-c4ff-4637-8851-fdb0004b01e1",
     "showTitle": false,
     "tableResultSettingsMap": {},
     "title": ""
    }
   },
   "outputs": [],
   "source": [
    "import pandas as pd\n",
    "import numpy as np\n",
    "\n",
    "# Assuming 'result' is your DataFrame\n",
    "\n",
    "# Function to impute categorical columns by sampling based on existing distribution\n",
    "def impute_categorical(df, columns):\n",
    "    for col in columns:\n",
    "        # Calculate the frequency of each category\n",
    "        value_counts = df[col].value_counts(normalize=True)\n",
    "        # Identify missing values\n",
    "        mask = df[col].isna()\n",
    "        n_missing = mask.sum()\n",
    "        \n",
    "        if n_missing > 0:\n",
    "            # Sample values based on the distribution\n",
    "            sampled_values = np.random.choice(\n",
    "                value_counts.index,\n",
    "                size=n_missing,\n",
    "                p=value_counts.values\n",
    "            )\n",
    "            # Fill the missing values\n",
    "            df.loc[mask, col] = sampled_values\n",
    "\n",
    "# Function to impute numerical columns by sampling based on existing distribution\n",
    "def impute_numerical(df, columns, add_noise=False, noise_range=(0, 0)):\n",
    "    for col in columns:\n",
    "        # Calculate the frequency of each unique value\n",
    "        value_counts = df[col].value_counts(normalize=True)\n",
    "        # Identify missing values\n",
    "        mask = df[col].isna()\n",
    "        n_missing = mask.sum()\n",
    "        \n",
    "        if n_missing > 0:\n",
    "            # Sample values based on the distribution\n",
    "            sampled_values = np.random.choice(\n",
    "                value_counts.index,\n",
    "                size=n_missing,\n",
    "                p=value_counts.values\n",
    "            )\n",
    "            \n",
    "            if add_noise:\n",
    "                # Add random noise within the specified range\n",
    "                noise = np.random.randint(noise_range[0], noise_range[1] + 1, size=n_missing)\n",
    "                sampled_values = sampled_values + noise\n",
    "            \n",
    "            # Fill the missing values\n",
    "            df.loc[mask, col] = sampled_values\n",
    "\n",
    "# List of categorical columns\n",
    "categorical_columns = [\"gender\", \"avtale_antall_år\", \"sentralitetsindex\"]\n",
    "\n",
    "# List of numerical columns\n",
    "numerical_columns = [\"age\"]\n",
    "\n",
    "# Impute categorical columns\n",
    "impute_categorical(df, categorical_columns)\n",
    "\n",
    "# Impute numerical columns\n",
    "# Option 1: Without adding noise\n",
    "impute_numerical(df, numerical_columns)\n",
    "\n",
    "# Option 2: With adding noise (e.g., +/- 5 years)\n",
    "# impute_numerical(result, numerical_columns, add_noise=True, noise_range=(-5, 5))"
   ]
  },
  {
   "cell_type": "markdown",
   "metadata": {
    "application/vnd.databricks.v1+cell": {
     "cellMetadata": {
      "byteLimit": 2048000,
      "rowLimit": 10000
     },
     "inputWidgets": {},
     "nuid": "561dc0d2-be62-43a2-baa2-ced3b74b38b4",
     "showTitle": false,
     "tableResultSettingsMap": {},
     "title": ""
    }
   },
   "source": [
    "All columns containing `null` (which will gets dropped)"
   ]
  },
  {
   "cell_type": "code",
   "execution_count": 0,
   "metadata": {
    "application/vnd.databricks.v1+cell": {
     "cellMetadata": {
      "byteLimit": 2048000,
      "rowLimit": 10000
     },
     "inputWidgets": {},
     "nuid": "91b10542-23f3-4a7f-a4a7-c4cf3eb40923",
     "showTitle": false,
     "tableResultSettingsMap": {},
     "title": ""
    }
   },
   "outputs": [],
   "source": [
    "df.isnull().sum()"
   ]
  },
  {
   "cell_type": "code",
   "execution_count": 0,
   "metadata": {
    "application/vnd.databricks.v1+cell": {
     "cellMetadata": {
      "byteLimit": 2048000,
      "rowLimit": 10000
     },
     "inputWidgets": {},
     "nuid": "7e7efd31-e139-40c0-bfdb-4ada0bf9db0c",
     "showTitle": false,
     "tableResultSettingsMap": {},
     "title": ""
    }
   },
   "outputs": [
    {
     "name": "stderr",
     "output_type": "stream",
     "text": [
      "\n",
      "A value is trying to be set on a copy of a slice from a DataFrame.\n",
      "Try using .loc[row_indexer,col_indexer] = value instead\n",
      "\n",
      "See the caveats in the documentation: https://pandas.pydata.org/pandas-docs/stable/user_guide/indexing.html#returning-a-view-versus-a-copy\n"
     ]
    }
   ],
   "source": [
    "df.dropna(inplace=True)\n",
    "df = df[(df[\"age\"] >= 16) & (df[\"age\"] <= 95)]\n",
    "df[\"age\"] = df[\"age\"].astype(int)\n",
    "df = df[(df[\"avtale_antall_år\"] <= df[\"age\"] - 16) & (df[\"avtale_antall_år\"] >= 0)]\n",
    "df[\"avtale_antall_år\"] = df[\"avtale_antall_år\"].astype(int)\n",
    "df = df[(df[\"n_vehic\"] >= 0) & (df[\"n_vehic\"] <= 30)]\n",
    "df[\"n_vehic\"] = df[\"n_vehic\"].astype(int)"
   ]
  },
  {
   "cell_type": "markdown",
   "metadata": {
    "application/vnd.databricks.v1+cell": {
     "cellMetadata": {
      "byteLimit": 2048000,
      "rowLimit": 10000
     },
     "inputWidgets": {},
     "nuid": "dc727a37-04b0-4216-961d-6d1814cfc034",
     "showTitle": false,
     "tableResultSettingsMap": {},
     "title": ""
    }
   },
   "source": [
    "All unique column values"
   ]
  },
  {
   "cell_type": "code",
   "execution_count": 0,
   "metadata": {
    "application/vnd.databricks.v1+cell": {
     "cellMetadata": {
      "byteLimit": 2048000,
      "rowLimit": 10000
     },
     "inputWidgets": {},
     "nuid": "8b1049a9-01c6-4e5e-9cbb-ebc7f26e574e",
     "showTitle": false,
     "tableResultSettingsMap": {},
     "title": ""
    }
   },
   "outputs": [],
   "source": [
    "for col in df:\n",
    "    print(df[col].unique())"
   ]
  },
  {
   "cell_type": "markdown",
   "metadata": {
    "application/vnd.databricks.v1+cell": {
     "cellMetadata": {
      "byteLimit": 2048000,
      "rowLimit": 10000
     },
     "inputWidgets": {},
     "nuid": "bca79de3-841c-441b-9d42-7dff0bbeb875",
     "showTitle": false,
     "tableResultSettingsMap": {},
     "title": ""
    }
   },
   "source": [
    "Churner/Non-churner diff"
   ]
  },
  {
   "cell_type": "code",
   "execution_count": 0,
   "metadata": {
    "application/vnd.databricks.v1+cell": {
     "cellMetadata": {
      "byteLimit": 2048000,
      "rowLimit": 10000
     },
     "inputWidgets": {},
     "nuid": "83b73541-ddca-46db-9c5b-86c7ce280640",
     "showTitle": false,
     "tableResultSettingsMap": {},
     "title": ""
    }
   },
   "outputs": [
    {
     "data": {
      "text/plain": [
       "False    488135\n",
       "True     365933\n",
       "Name: churn, dtype: int64"
      ]
     },
     "execution_count": 19,
     "metadata": {},
     "output_type": "execute_result"
    }
   ],
   "source": [
    "df[\"churn\"].value_counts()"
   ]
  },
  {
   "cell_type": "code",
   "execution_count": 0,
   "metadata": {
    "application/vnd.databricks.v1+cell": {
     "cellMetadata": {
      "byteLimit": 2048000,
      "rowLimit": 10000
     },
     "inputWidgets": {},
     "nuid": "f70e5e53-6f28-4fb8-baea-69d10c957be9",
     "showTitle": false,
     "tableResultSettingsMap": {},
     "title": ""
    }
   },
   "outputs": [
    {
     "data": {
      "image/png": "[encoded data removed]",
      "text/plain": [
       "<Figure size 1000x600 with 1 Axes>"
      ]
     },
     "metadata": {},
     "output_type": "display_data"
    }
   ],
   "source": [
    "plt.figure(figsize=(10, 6))\n",
    "df[\"churn\"].value_counts().plot(kind=\"bar\", color=[\"blue\", \"orange\"])\n",
    "plt.title(\"Number churner and non-churner\")\n",
    "plt.xlabel(\"Vehicles\")\n",
    "plt.ylabel(\"Count\")\n",
    "plt.xticks(rotation=0)\n",
    "plt.show()"
   ]
  },
  {
   "cell_type": "code",
   "execution_count": 0,
   "metadata": {
    "application/vnd.databricks.v1+cell": {
     "cellMetadata": {
      "byteLimit": 2048000,
      "rowLimit": 10000
     },
     "inputWidgets": {},
     "nuid": "2f9497f6-92cd-443c-9838-025a3ead834d",
     "showTitle": false,
     "tableResultSettingsMap": {},
     "title": ""
    }
   },
   "outputs": [
    {
     "data": {
      "image/png": "[encoded data removed]",
      "text/plain": [
       "<Figure size 2000x600 with 1 Axes>"
      ]
     },
     "metadata": {},
     "output_type": "display_data"
    }
   ],
   "source": [
    "plt.figure(figsize=(20, 6))\n",
    "df[\"n_vehic\"].value_counts().plot(kind=\"bar\", color=[\"blue\", \"orange\"])\n",
    "plt.title(\"Number vehicles registered\")\n",
    "plt.xlabel(\"Vehicles\")\n",
    "plt.ylabel(\"Count\")\n",
    "plt.xticks(rotation=0)\n",
    "plt.show()"
   ]
  },
  {
   "cell_type": "code",
   "execution_count": 0,
   "metadata": {
    "application/vnd.databricks.v1+cell": {
     "cellMetadata": {
      "byteLimit": 2048000,
      "rowLimit": 10000
     },
     "inputWidgets": {},
     "nuid": "50ec3da0-8810-4e76-9c7e-77d57c6802d7",
     "showTitle": false,
     "tableResultSettingsMap": {},
     "title": ""
    }
   },
   "outputs": [
    {
     "data": {
      "image/png": "[encoded data removed]",
      "text/plain": [
       "<Figure size 1000x600 with 1 Axes>"
      ]
     },
     "metadata": {},
     "output_type": "display_data"
    }
   ],
   "source": [
    "plt.figure(figsize=(10, 6))\n",
    "df[\"gender\"].value_counts().plot(kind=\"bar\", color=[\"blue\", \"orange\"])\n",
    "plt.title(\"Gender Distribution\")\n",
    "plt.xlabel(\"Gender\")\n",
    "plt.ylabel(\"Count\")\n",
    "plt.xticks(rotation=0)\n",
    "plt.show()"
   ]
  },
  {
   "cell_type": "code",
   "execution_count": 0,
   "metadata": {
    "application/vnd.databricks.v1+cell": {
     "cellMetadata": {
      "byteLimit": 2048000,
      "rowLimit": 10000
     },
     "inputWidgets": {},
     "nuid": "fa7454d2-e525-47d2-acdc-85d80e346f8a",
     "showTitle": false,
     "tableResultSettingsMap": {},
     "title": ""
    }
   },
   "outputs": [
    {
     "data": {
      "image/png": "[encoded data removed]",
      "text/plain": [
       "<Figure size 2000x600 with 1 Axes>"
      ]
     },
     "metadata": {},
     "output_type": "display_data"
    }
   ],
   "source": [
    "plt.figure(figsize=(20, 6))\n",
    "df[\"age\"].value_counts().sort_index().plot(kind=\"bar\", color=\"green\", edgecolor=\"black\")\n",
    "plt.title(\"Age Distribution\")\n",
    "plt.xlabel(\"Age\")\n",
    "plt.ylabel(\"Frequency\")\n",
    "plt.show()"
   ]
  },
  {
   "cell_type": "code",
   "execution_count": 0,
   "metadata": {
    "application/vnd.databricks.v1+cell": {
     "cellMetadata": {
      "byteLimit": 2048000,
      "rowLimit": 10000
     },
     "inputWidgets": {},
     "nuid": "fd423e34-a1c0-4fbc-b8af-5d775741b110",
     "showTitle": false,
     "tableResultSettingsMap": {},
     "title": ""
    }
   },
   "outputs": [
    {
     "data": {
      "image/png": "[encoded data removed]",
      "text/plain": [
       "<Figure size 1000x600 with 1 Axes>"
      ]
     },
     "metadata": {},
     "output_type": "display_data"
    }
   ],
   "source": [
    "plt.figure(figsize=(10, 6))\n",
    "df[\"avtale_antall_år\"].value_counts().sort_index().plot(\n",
    "    kind=\"bar\", color=\"blue\", edgecolor=\"black\"\n",
    ")\n",
    "plt.title(\"Contract Number of Years Distribution\")\n",
    "plt.xlabel(\"Number of Years\")\n",
    "plt.ylabel(\"Frequency\")\n",
    "plt.show()"
   ]
  },
  {
   "cell_type": "code",
   "execution_count": 0,
   "metadata": {
    "application/vnd.databricks.v1+cell": {
     "cellMetadata": {
      "byteLimit": 2048000,
      "rowLimit": 10000
     },
     "inputWidgets": {},
     "nuid": "eefb8bfa-c088-4f25-b06d-9e9112dbe2f2",
     "showTitle": false,
     "tableResultSettingsMap": {},
     "title": ""
    }
   },
   "outputs": [
    {
     "data": {
      "image/png": "[encoded data removed]",
      "text/plain": [
       "<Figure size 800x600 with 2 Axes>"
      ]
     },
     "metadata": {},
     "output_type": "display_data"
    }
   ],
   "source": [
    "plt.figure(figsize=(8, 6))\n",
    "heatmap_data = pd.crosstab(df[\"age\"], df[\"avtale_antall_år\"])\n",
    "sns.heatmap(np.log1p(heatmap_data), cmap=\"rocket\", annot=False, cbar=True)\n",
    "plt.title(\"Log-transformed Heatmap of Age vs. Number of Years of Agreement\")\n",
    "plt.xlabel(\"Number of Years\")\n",
    "plt.ylabel(\"Age\")\n",
    "plt.show()"
   ]
  },
  {
   "cell_type": "markdown",
   "metadata": {
    "application/vnd.databricks.v1+cell": {
     "cellMetadata": {
      "byteLimit": 2048000,
      "rowLimit": 10000
     },
     "inputWidgets": {},
     "nuid": "90b4ec6f-ab48-444d-b1a4-651a60014046",
     "showTitle": false,
     "tableResultSettingsMap": {},
     "title": ""
    }
   },
   "source": [
    "# Prediction"
   ]
  },
  {
   "cell_type": "code",
   "execution_count": 0,
   "metadata": {
    "application/vnd.databricks.v1+cell": {
     "cellMetadata": {
      "byteLimit": 2048000,
      "rowLimit": 10000
     },
     "inputWidgets": {},
     "nuid": "76e634ee-44b3-40fb-86ac-55122f0f0226",
     "showTitle": false,
     "tableResultSettingsMap": {},
     "title": ""
    }
   },
   "outputs": [],
   "source": [
    "df_predict = df\n",
    "df_predict[\"gender\"] = df_predict[\"gender\"].map({\"Mann\": 0, \"Kvinne\": 1})\n",
    "df_predict[\"produktnummer\"] = df_predict[\"produktnummer\"].map({\"2010\": 0, \"2050\": 1})\n",
    "df_predict[\"sentralitetsindex\"] = df_predict[\"sentralitetsindex\"].astype(int)\n",
    "df_predict[\"total_beløp\"] = df_predict[\"total_beløp\"].astype(int)\n",
    "df_predict[\"produktuttak_count\"] = df_predict[\"produktuttak_count\"].astype(int)\n",
    "# df_predict[\"publikasjonsformat\"] = df_predict[\"publikasjonsformat\"].map({\"Papir\": 0, \"Digital\": 1})"
   ]
  },
  {
   "cell_type": "code",
   "execution_count": 0,
   "metadata": {
    "application/vnd.databricks.v1+cell": {
     "cellMetadata": {
      "byteLimit": 2048000,
      "rowLimit": 10000
     },
     "inputWidgets": {},
     "nuid": "9e64d0c8-44a4-408e-8e7d-ff7c5c77f025",
     "showTitle": false,
     "tableResultSettingsMap": {},
     "title": ""
    }
   },
   "outputs": [
    {
     "data": {
      "text/html": [
       "<div>\n",
       "<style scoped>\n",
       "    .dataframe tbody tr th:only-of-type {\n",
       "        vertical-align: middle;\n",
       "    }\n",
       "\n",
       "    .dataframe tbody tr th {\n",
       "        vertical-align: top;\n",
       "    }\n",
       "\n",
       "    .dataframe thead th {\n",
       "        text-align: right;\n",
       "    }\n",
       "</style>\n",
       "<table border=\"1\" class=\"dataframe\">\n",
       "  <thead>\n",
       "    <tr style=\"text-align: right;\">\n",
       "      <th></th>\n",
       "      <th>avtale_antall_år</th>\n",
       "      <th>er_husstandsmedlem</th>\n",
       "      <th>produktnummer</th>\n",
       "      <th>age</th>\n",
       "      <th>gender</th>\n",
       "      <th>sentralitetsindex</th>\n",
       "      <th>total_beløp</th>\n",
       "      <th>produktuttak_count</th>\n",
       "      <th>n_vehic</th>\n",
       "      <th>churn</th>\n",
       "    </tr>\n",
       "  </thead>\n",
       "  <tbody>\n",
       "    <tr>\n",
       "      <th>0</th>\n",
       "      <td>10</td>\n",
       "      <td>False</td>\n",
       "      <td>0</td>\n",
       "      <td>29</td>\n",
       "      <td>0</td>\n",
       "      <td>848</td>\n",
       "      <td>1125</td>\n",
       "      <td>16</td>\n",
       "      <td>12</td>\n",
       "      <td>True</td>\n",
       "    </tr>\n",
       "    <tr>\n",
       "      <th>1</th>\n",
       "      <td>1</td>\n",
       "      <td>False</td>\n",
       "      <td>0</td>\n",
       "      <td>25</td>\n",
       "      <td>0</td>\n",
       "      <td>836</td>\n",
       "      <td>0</td>\n",
       "      <td>4</td>\n",
       "      <td>3</td>\n",
       "      <td>False</td>\n",
       "    </tr>\n",
       "    <tr>\n",
       "      <th>2</th>\n",
       "      <td>1</td>\n",
       "      <td>False</td>\n",
       "      <td>0</td>\n",
       "      <td>26</td>\n",
       "      <td>0</td>\n",
       "      <td>1000</td>\n",
       "      <td>0</td>\n",
       "      <td>2</td>\n",
       "      <td>2</td>\n",
       "      <td>True</td>\n",
       "    </tr>\n",
       "    <tr>\n",
       "      <th>3</th>\n",
       "      <td>9</td>\n",
       "      <td>False</td>\n",
       "      <td>0</td>\n",
       "      <td>26</td>\n",
       "      <td>0</td>\n",
       "      <td>800</td>\n",
       "      <td>0</td>\n",
       "      <td>4</td>\n",
       "      <td>9</td>\n",
       "      <td>False</td>\n",
       "    </tr>\n",
       "    <tr>\n",
       "      <th>4</th>\n",
       "      <td>1</td>\n",
       "      <td>False</td>\n",
       "      <td>0</td>\n",
       "      <td>69</td>\n",
       "      <td>0</td>\n",
       "      <td>890</td>\n",
       "      <td>0</td>\n",
       "      <td>1</td>\n",
       "      <td>2</td>\n",
       "      <td>False</td>\n",
       "    </tr>\n",
       "  </tbody>\n",
       "</table>\n",
       "</div>"
      ],
      "text/plain": [
       "   avtale_antall_år  er_husstandsmedlem  ...  n_vehic  churn\n",
       "0                10               False  ...       12   True\n",
       "1                 1               False  ...        3  False\n",
       "2                 1               False  ...        2   True\n",
       "3                 9               False  ...        9  False\n",
       "4                 1               False  ...        2  False\n",
       "\n",
       "[5 rows x 10 columns]"
      ]
     },
     "execution_count": 27,
     "metadata": {},
     "output_type": "execute_result"
    }
   ],
   "source": [
    "df_predict.head()"
   ]
  },
  {
   "cell_type": "code",
   "execution_count": 0,
   "metadata": {
    "application/vnd.databricks.v1+cell": {
     "cellMetadata": {
      "byteLimit": 2048000,
      "rowLimit": 10000
     },
     "inputWidgets": {},
     "nuid": "b12b1794-1ddf-4ba5-8d27-646433b29d22",
     "showTitle": false,
     "tableResultSettingsMap": {},
     "title": ""
    }
   },
   "outputs": [],
   "source": [
    "for col in df_predict:\n",
    "    print(df_predict[col].unique())"
   ]
  },
  {
   "cell_type": "code",
   "execution_count": 0,
   "metadata": {
    "application/vnd.databricks.v1+cell": {
     "cellMetadata": {
      "byteLimit": 2048000,
      "rowLimit": 10000
     },
     "inputWidgets": {},
     "nuid": "8237f6bb-2341-41fe-8192-144b29f2361e",
     "showTitle": false,
     "tableResultSettingsMap": {},
     "title": ""
    }
   },
   "outputs": [],
   "source": [
    "X = df_predict.drop(columns=[\"churn\"])\n",
    "y = df_predict[\"churn\"]\n",
    "\n",
    "X_train, X_test, y_train, y_test = train_test_split(\n",
    "    X, y, test_size=0.35, random_state=42, shuffle=True, stratify=y\n",
    ")"
   ]
  },
  {
   "cell_type": "code",
   "execution_count": 0,
   "metadata": {
    "application/vnd.databricks.v1+cell": {
     "cellMetadata": {
      "byteLimit": 2048000,
      "rowLimit": 10000
     },
     "inputWidgets": {},
     "nuid": "417c949f-70a8-4d6e-bacb-35fbba79355c",
     "showTitle": false,
     "tableResultSettingsMap": {},
     "title": ""
    }
   },
   "outputs": [],
   "source": [
    "from sklearn.metrics import (\n",
    "    roc_auc_score,\n",
    "    accuracy_score,\n",
    "    confusion_matrix,\n",
    "    classification_report,\n",
    ")\n",
    "\n",
    "def evaluate_model(model, X_train, X_test, y_train, y_test):\n",
    "    \"\"\"\n",
    "    Trains the model, makes predictions, and evaluates performance.\n",
    "    \n",
    "    Parameters:\n",
    "    - model: The machine learning model to train and evaluate\n",
    "    - X_train: Training features\n",
    "    - X_test: Testing features\n",
    "    - y_train: Training target\n",
    "    - y_test: Testing target\n",
    "    \n",
    "    Returns:\n",
    "    - A dictionary containing evaluation metrics and confusion matrix\n",
    "    \"\"\"\n",
    "    # Fit the model\n",
    "    model.fit(X_train, y_train)\n",
    "    \n",
    "    # Make predictions\n",
    "    y_pred = model.predict(X_test)\n",
    "    y_pred_proba = (\n",
    "        model.predict_proba(X_test)[:, 1]\n",
    "        if hasattr(model, \"predict_proba\")\n",
    "        else None\n",
    "    )\n",
    "    \n",
    "    # Metrics\n",
    "    conf_matrix = confusion_matrix(y_test, y_pred)\n",
    "    report = classification_report(y_test, y_pred, output_dict=True)\n",
    "    auc_score = (\n",
    "        roc_auc_score(y_test, y_pred_proba) if y_pred_proba is not None else None\n",
    "    )\n",
    "    \n",
    "    # Display results\n",
    "    print(f\"Model: {model.__class__.__name__}\")\n",
    "    print(f\"Confusion Matrix:\\n{conf_matrix}\")\n",
    "    print(\"\\nClassification Report:\\n\", classification_report(y_test, y_pred))\n",
    "    if auc_score is not None:\n",
    "        print(f\"ROC AUC Score: {auc_score:.4f}\")\n",
    "    else:\n",
    "        print(\"ROC AUC Score: Not applicable\")\n"
   ]
  },
  {
   "cell_type": "code",
   "execution_count": 0,
   "metadata": {
    "application/vnd.databricks.v1+cell": {
     "cellMetadata": {
      "byteLimit": 2048000,
      "rowLimit": 10000
     },
     "inputWidgets": {},
     "nuid": "b4a73079-63c5-4cff-a284-aa4eba08f90d",
     "showTitle": false,
     "tableResultSettingsMap": {},
     "title": ""
    }
   },
   "outputs": [
    {
     "name": "stdout",
     "output_type": "stream",
     "text": [
      "\n",
      "--- Evaluating CatBoost ---\n",
      "Model: CatBoostClassifier\n",
      "Confusion Matrix:\n",
      "[[140187  30660]\n",
      " [ 38954  89123]]\n",
      "\n",
      "Classification Report:\n",
      "               precision    recall  f1-score   support\n",
      "\n",
      "       False       0.78      0.82      0.80    170847\n",
      "        True       0.74      0.70      0.72    128077\n",
      "\n",
      "    accuracy                           0.77    298924\n",
      "   macro avg       0.76      0.76      0.76    298924\n",
      "weighted avg       0.77      0.77      0.77    298924\n",
      "\n",
      "ROC AUC Score: 0.8400\n",
      "\n",
      "--- Evaluating Gradient Boosting ---\n",
      "Model: GradientBoostingClassifier\n",
      "Confusion Matrix:\n",
      "[[137598  33249]\n",
      " [ 40680  87397]]\n",
      "\n",
      "Classification Report:\n",
      "               precision    recall  f1-score   support\n",
      "\n",
      "       False       0.77      0.81      0.79    170847\n",
      "        True       0.72      0.68      0.70    128077\n",
      "\n",
      "    accuracy                           0.75    298924\n",
      "   macro avg       0.75      0.74      0.75    298924\n",
      "weighted avg       0.75      0.75      0.75    298924\n",
      "\n",
      "ROC AUC Score: 0.8217\n",
      "\n",
      "--- Evaluating Random Forest ---\n",
      "Model: RandomForestClassifier\n",
      "Confusion Matrix:\n",
      "[[137367  33480]\n",
      " [ 44548  83529]]\n",
      "\n",
      "Classification Report:\n",
      "               precision    recall  f1-score   support\n",
      "\n",
      "       False       0.76      0.80      0.78    170847\n",
      "        True       0.71      0.65      0.68    128077\n",
      "\n",
      "    accuracy                           0.74    298924\n",
      "   macro avg       0.73      0.73      0.73    298924\n",
      "weighted avg       0.74      0.74      0.74    298924\n",
      "\n",
      "ROC AUC Score: 0.8038\n",
      "\n",
      "--- Evaluating Extra Trees ---\n",
      "Model: ExtraTreesClassifier\n",
      "Confusion Matrix:\n",
      "[[135791  35056]\n",
      " [ 46638  81439]]\n",
      "\n",
      "Classification Report:\n",
      "               precision    recall  f1-score   support\n",
      "\n",
      "       False       0.74      0.79      0.77    170847\n",
      "        True       0.70      0.64      0.67    128077\n",
      "\n",
      "    accuracy                           0.73    298924\n",
      "   macro avg       0.72      0.72      0.72    298924\n",
      "weighted avg       0.72      0.73      0.72    298924\n",
      "\n",
      "ROC AUC Score: 0.7796\n",
      "\n",
      "--- Evaluating XGBoost ---\n"
     ]
    },
    {
     "data": {
      "application/vnd.jupyter.widget-view+json": {
       "model_id": "e8ceee723bb34d6fb87e61f8a96f750a",
       "version_major": 2,
       "version_minor": 0
      },
      "text/plain": [
       "Uploading artifacts:   0%|          | 0/9 [00:00<?, ?it/s]"
      ]
     },
     "metadata": {},
     "output_type": "display_data"
    },
    {
     "name": "stdout",
     "output_type": "stream",
     "text": [
      "Model: XGBClassifier\n",
      "Confusion Matrix:\n",
      "[[139557  31290]\n",
      " [ 39153  88924]]\n",
      "\n",
      "Classification Report:\n",
      "               precision    recall  f1-score   support\n",
      "\n",
      "       False       0.78      0.82      0.80    170847\n",
      "        True       0.74      0.69      0.72    128077\n",
      "\n",
      "    accuracy                           0.76    298924\n",
      "   macro avg       0.76      0.76      0.76    298924\n",
      "weighted avg       0.76      0.76      0.76    298924\n",
      "\n",
      "ROC AUC Score: 0.8369\n",
      "\n",
      "--- Evaluating AdaBoost ---\n",
      "Model: AdaBoostClassifier\n",
      "Confusion Matrix:\n",
      "[[136890  33957]\n",
      " [ 46238  81839]]\n",
      "\n",
      "Classification Report:\n",
      "               precision    recall  f1-score   support\n",
      "\n",
      "       False       0.75      0.80      0.77    170847\n",
      "        True       0.71      0.64      0.67    128077\n",
      "\n",
      "    accuracy                           0.73    298924\n",
      "   macro avg       0.73      0.72      0.72    298924\n",
      "weighted avg       0.73      0.73      0.73    298924\n",
      "\n",
      "ROC AUC Score: 0.7966\n",
      "\n",
      "--- Evaluating LightGBM ---\n",
      "[LightGBM] [Info] Number of positive: 237856, number of negative: 317288\n",
      "[LightGBM] [Info] Auto-choosing row-wise multi-threading, the overhead of testing was 0.015737 seconds.\n",
      "You can set `force_row_wise=true` to remove the overhead.\n",
      "And if memory is not enough, you can set `force_col_wise=true`.\n",
      "[LightGBM] [Info] Total Bins 695\n",
      "[LightGBM] [Info] Number of data points in the train set: 555144, number of used features: 9\n",
      "[LightGBM] [Info] [binary:BoostFromScore]: pavg=0.428458 -> initscore=-0.288144\n",
      "[LightGBM] [Info] Start training from score -0.288144\n"
     ]
    },
    {
     "data": {
      "application/vnd.jupyter.widget-view+json": {
       "model_id": "eed2877efdfe43cbae5243d5ac7a648f",
       "version_major": 2,
       "version_minor": 0
      },
      "text/plain": [
       "Uploading artifacts:   0%|          | 0/9 [00:00<?, ?it/s]"
      ]
     },
     "metadata": {},
     "output_type": "display_data"
    },
    {
     "name": "stdout",
     "output_type": "stream",
     "text": [
      "Model: LGBMClassifier\n",
      "Confusion Matrix:\n",
      "[[139946  30901]\n",
      " [ 39586  88491]]\n",
      "\n",
      "Classification Report:\n",
      "               precision    recall  f1-score   support\n",
      "\n",
      "       False       0.78      0.82      0.80    170847\n",
      "        True       0.74      0.69      0.72    128077\n",
      "\n",
      "    accuracy                           0.76    298924\n",
      "   macro avg       0.76      0.76      0.76    298924\n",
      "weighted avg       0.76      0.76      0.76    298924\n",
      "\n",
      "ROC AUC Score: 0.8357\n",
      "\n",
      "--- Evaluating KNN ---\n",
      "Model: KNeighborsClassifier\n",
      "Confusion Matrix:\n",
      "[[124893  45954]\n",
      " [ 48078  79999]]\n",
      "\n",
      "Classification Report:\n",
      "               precision    recall  f1-score   support\n",
      "\n",
      "       False       0.72      0.73      0.73    170847\n",
      "        True       0.64      0.62      0.63    128077\n",
      "\n",
      "    accuracy                           0.69    298924\n",
      "   macro avg       0.68      0.68      0.68    298924\n",
      "weighted avg       0.68      0.69      0.69    298924\n",
      "\n",
      "ROC AUC Score: 0.7306\n"
     ]
    }
   ],
   "source": [
    "from sklearn.linear_model import LogisticRegression\n",
    "from sklearn.ensemble import RandomForestClassifier\n",
    "from xgboost import XGBClassifier\n",
    "from lightgbm import LGBMClassifier\n",
    "from catboost import CatBoostClassifier\n",
    "from sklearn.neighbors import KNeighborsClassifier\n",
    "from sklearn.neural_network import MLPClassifier\n",
    "from sklearn.ensemble import ExtraTreesClassifier\n",
    "from sklearn.ensemble import AdaBoostClassifier\n",
    "from sklearn.ensemble import VotingClassifier\n",
    "from sklearn.ensemble import GradientBoostingClassifier\n",
    "\n",
    "# Define a list of models\n",
    "models = {\n",
    "    \"CatBoost\": CatBoostClassifier(random_state=42, verbose=0),\n",
    "    \"Gradient Boosting\": GradientBoostingClassifier(random_state=42),\n",
    "    \"Random Forest\": RandomForestClassifier(random_state=42, n_estimators=100),\n",
    "    \"Extra Trees\": ExtraTreesClassifier(random_state=42, n_estimators=100),\n",
    "    \"XGBoost\": XGBClassifier(random_state=42, use_label_encoder=False, eval_metric=\"logloss\"),\n",
    "    \"AdaBoost\": AdaBoostClassifier(random_state=42, n_estimators=100),\n",
    "    \"LightGBM\": LGBMClassifier(random_state=42),\n",
    "    \"KNN\": KNeighborsClassifier(n_neighbors=5),\n",
    "}\n",
    "\n",
    "# Dictionary to store results\n",
    "model_results = {}\n",
    "\n",
    "# Evaluate each model\n",
    "for name, model in models.items():\n",
    "    print(f\"\\n--- Evaluating {name} ---\")\n",
    "    model_results[name] = evaluate_model(model, X_train, X_test, y_train, y_test)\n"
   ]
  }
 ],
 "metadata": {
  "application/vnd.databricks.v1+notebook": {
   "computePreferences": null,
   "dashboards": [],
   "environmentMetadata": null,
   "language": "python",
   "notebookMetadata": {
    "mostRecentlyExecutedCommandWithImplicitDF": {
     "commandId": 4381003623842046,
     "dataframes": [
      "_sqldf"
     ]
    },
    "pythonIndentUnit": 4
   },
   "notebookName": "4",
   "widgets": {}
  },
  "language_info": {
   "name": "python"
  }
 },
 "nbformat": 4,
 "nbformat_minor": 0
}
